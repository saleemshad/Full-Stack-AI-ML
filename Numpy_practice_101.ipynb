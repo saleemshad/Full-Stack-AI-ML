{
  "nbformat": 4,
  "nbformat_minor": 0,
  "metadata": {
    "colab": {
      "name": "Untitled2.ipynb",
      "provenance": [],
      "authorship_tag": "ABX9TyMfoMRL4nVDqtSgyk4cPE3C",
      "include_colab_link": true
    },
    "kernelspec": {
      "name": "python3",
      "display_name": "Python 3"
    },
    "language_info": {
      "name": "python"
    }
  },
  "cells": [
    {
      "cell_type": "markdown",
      "metadata": {
        "id": "view-in-github",
        "colab_type": "text"
      },
      "source": [
        "<a href=\"https://colab.research.google.com/github/saleemshad/Full-Stack-AI-ML/blob/main/Numpy_practice_101.ipynb\" target=\"_parent\"><img src=\"https://colab.research.google.com/assets/colab-badge.svg\" alt=\"Open In Colab\"/></a>"
      ]
    },
    {
      "cell_type": "markdown",
      "metadata": {
        "id": "WrMhJzL7dP2F"
      },
      "source": [
        "1. Import numpy as np and see the version"
      ]
    },
    {
      "cell_type": "code",
      "metadata": {
        "colab": {
          "base_uri": "https://localhost:8080/"
        },
        "id": "SvgSr36WdG7k",
        "outputId": "d76d84b4-d4a6-4760-a610-2231e1a6e794"
      },
      "source": [
        "import numpy as np\n",
        "print(np.__version__)"
      ],
      "execution_count": 2,
      "outputs": [
        {
          "output_type": "stream",
          "name": "stdout",
          "text": [
            "1.19.5\n"
          ]
        }
      ]
    },
    {
      "cell_type": "markdown",
      "metadata": {
        "id": "dyZvXosudc_k"
      },
      "source": [
        "2. How to create a 1D array?"
      ]
    },
    {
      "cell_type": "code",
      "metadata": {
        "colab": {
          "base_uri": "https://localhost:8080/"
        },
        "id": "H-OAyu37dfgK",
        "outputId": "ab2a34ca-d36a-42bb-c07b-3825ec7946d7"
      },
      "source": [
        "arr = np.array([0, 1, 2, 3, 4, 5, 6, 7, 8, 9])\n",
        "arr = np.arange(10)\n",
        "arr"
      ],
      "execution_count": 21,
      "outputs": [
        {
          "output_type": "execute_result",
          "data": {
            "text/plain": [
              "array([0, 1, 2, 3, 4, 5, 6, 7, 8, 9])"
            ]
          },
          "metadata": {},
          "execution_count": 21
        }
      ]
    },
    {
      "cell_type": "markdown",
      "metadata": {
        "id": "_q-wouzQkFHZ"
      },
      "source": [
        "3. How to create a boolean array?\n",
        "Create a 3×3 numpy array of all True’s"
      ]
    },
    {
      "cell_type": "code",
      "metadata": {
        "id": "_OUtFaEqkHj_"
      },
      "source": [
        "arr = np.full((3,3), True, dtype=bool)\n",
        "arr"
      ],
      "execution_count": null,
      "outputs": []
    },
    {
      "cell_type": "code",
      "metadata": {
        "colab": {
          "base_uri": "https://localhost:8080/"
        },
        "id": "7oEpqFFjkg-a",
        "outputId": "a562d41a-084b-48dc-a97f-8c4f0aa60ce8"
      },
      "source": [
        "arr = np.full((3,3), 1, dtype =int )\n",
        "arr"
      ],
      "execution_count": 18,
      "outputs": [
        {
          "output_type": "execute_result",
          "data": {
            "text/plain": [
              "array([[1, 1, 1],\n",
              "       [1, 1, 1],\n",
              "       [1, 1, 1]])"
            ]
          },
          "metadata": {},
          "execution_count": 18
        }
      ]
    },
    {
      "cell_type": "code",
      "metadata": {
        "colab": {
          "base_uri": "https://localhost:8080/"
        },
        "id": "YbIyVa8sky71",
        "outputId": "4b3e3912-b2ff-4580-e689-a12ec561d9c2"
      },
      "source": [
        "arr = np.full((3,3), 2.0, dtype=float)\n",
        "arr"
      ],
      "execution_count": 19,
      "outputs": [
        {
          "output_type": "execute_result",
          "data": {
            "text/plain": [
              "array([[2., 2., 2.],\n",
              "       [2., 2., 2.],\n",
              "       [2., 2., 2.]])"
            ]
          },
          "metadata": {},
          "execution_count": 19
        }
      ]
    },
    {
      "cell_type": "code",
      "metadata": {
        "colab": {
          "base_uri": "https://localhost:8080/"
        },
        "id": "JqFSr1h4k9Bj",
        "outputId": "96acca1b-1d5b-45bf-d9a4-3e91f83e9f48"
      },
      "source": [
        "arr = np.full((3,3), 'Shad', dtype='U4')\n",
        "arr"
      ],
      "execution_count": 36,
      "outputs": [
        {
          "output_type": "execute_result",
          "data": {
            "text/plain": [
              "array([['Shad', 'Shad', 'Shad'],\n",
              "       ['Shad', 'Shad', 'Shad'],\n",
              "       ['Shad', 'Shad', 'Shad']], dtype='<U4')"
            ]
          },
          "metadata": {},
          "execution_count": 36
        }
      ]
    },
    {
      "cell_type": "code",
      "metadata": {
        "colab": {
          "base_uri": "https://localhost:8080/"
        },
        "id": "1bfincywqWVW",
        "outputId": "22e7d31d-cc3c-4d1a-e664-abc471c9f8f3"
      },
      "source": [
        "arr = np.full((3,3), 'Shad', dtype='S4')\n",
        "arr"
      ],
      "execution_count": 37,
      "outputs": [
        {
          "output_type": "execute_result",
          "data": {
            "text/plain": [
              "array([[b'Shad', b'Shad', b'Shad'],\n",
              "       [b'Shad', b'Shad', b'Shad'],\n",
              "       [b'Shad', b'Shad', b'Shad']], dtype='|S4')"
            ]
          },
          "metadata": {},
          "execution_count": 37
        }
      ]
    },
    {
      "cell_type": "markdown",
      "metadata": {
        "id": "5bfvLjDOrM8U"
      },
      "source": [
        "4. How to extract items that satisfy a given condition from 1D array?\n",
        "xtract all odd numbers from arr Input:"
      ]
    },
    {
      "cell_type": "code",
      "metadata": {
        "colab": {
          "base_uri": "https://localhost:8080/"
        },
        "id": "bILuj2s1rORO",
        "outputId": "baf2e1c7-082e-4007-e3a7-b48f569a6192"
      },
      "source": [
        "arr = np.array([0, 1, 2, 3, 4, 5, 6, 7, 8, 9])\n",
        "arr[arr % 2 ==1]"
      ],
      "execution_count": 42,
      "outputs": [
        {
          "output_type": "execute_result",
          "data": {
            "text/plain": [
              "array([1, 3, 5, 7, 9])"
            ]
          },
          "metadata": {},
          "execution_count": 42
        }
      ]
    },
    {
      "cell_type": "code",
      "metadata": {
        "colab": {
          "base_uri": "https://localhost:8080/"
        },
        "id": "P4Q_hI8dr6Tp",
        "outputId": "51e69c10-0877-443e-80dc-f5cb8776df61"
      },
      "source": [
        "arr[arr %2 ==0] #even number of the above given array"
      ],
      "execution_count": 43,
      "outputs": [
        {
          "output_type": "execute_result",
          "data": {
            "text/plain": [
              "array([0, 2, 4, 6, 8])"
            ]
          },
          "metadata": {},
          "execution_count": 43
        }
      ]
    },
    {
      "cell_type": "markdown",
      "metadata": {
        "id": "saHRYtffsC3V"
      },
      "source": [
        "5. How to replace items that satisfy a condition with another value in numpy array?\n",
        "Difficulty Level: L1 Q. Replace all odd numbers in arr with -1 Input:"
      ]
    },
    {
      "cell_type": "code",
      "metadata": {
        "colab": {
          "base_uri": "https://localhost:8080/"
        },
        "id": "6czqkqX5sEWY",
        "outputId": "4b4045fa-c8eb-4e06-af74-81bf7c6aa49d"
      },
      "source": [
        "arr = np.array([0, 1, 2, 3, 4, 5, 6, 7, 8, 9])\n",
        "arr[arr%2==1] =-1\n",
        "arr\n"
      ],
      "execution_count": 47,
      "outputs": [
        {
          "output_type": "execute_result",
          "data": {
            "text/plain": [
              "array([ 0, -1,  2, -1,  4, -1,  6, -1,  8, -1])"
            ]
          },
          "metadata": {},
          "execution_count": 47
        }
      ]
    }
  ]
}
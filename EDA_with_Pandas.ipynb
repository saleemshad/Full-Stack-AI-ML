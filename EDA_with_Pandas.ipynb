{
  "nbformat": 4,
  "nbformat_minor": 0,
  "metadata": {
    "colab": {
      "name": "EDA_with_Pandas.ipynb",
      "provenance": [],
      "mount_file_id": "1OiZ873q3aW14MVzGWNlltwsSev6A5Qwt",
      "authorship_tag": "ABX9TyPiXX8oNZQQX0cqEeewBpVx",
      "include_colab_link": true
    },
    "kernelspec": {
      "name": "python3",
      "display_name": "Python 3"
    },
    "language_info": {
      "name": "python"
    }
  },
  "cells": [
    {
      "cell_type": "markdown",
      "metadata": {
        "id": "view-in-github",
        "colab_type": "text"
      },
      "source": [
        "<a href=\"https://colab.research.google.com/github/saleemshad/Full-Stack-AI-ML/blob/main/EDA_with_Pandas.ipynb\" target=\"_parent\"><img src=\"https://colab.research.google.com/assets/colab-badge.svg\" alt=\"Open In Colab\"/></a>"
      ]
    },
    {
      "cell_type": "code",
      "metadata": {
        "id": "-posyQBkJYfL"
      },
      "source": [
        "import numpy as np\n",
        "import pandas as pd"
      ],
      "execution_count": null,
      "outputs": []
    },
    {
      "cell_type": "code",
      "metadata": {
        "id": "8K1Vj_6HJkaq"
      },
      "source": [
        "data_file = pd.read_csv('/content/drive/MyDrive/geolocations_amenities_ghmc.csv')"
      ],
      "execution_count": null,
      "outputs": []
    },
    {
      "cell_type": "code",
      "metadata": {
        "colab": {
          "base_uri": "https://localhost:8080/"
        },
        "id": "cB1xNdCVKa5v",
        "outputId": "79c658f6-f0f9-4d09-fa50-535247fadf4f"
      },
      "source": [
        "data_file.info()"
      ],
      "execution_count": null,
      "outputs": [
        {
          "output_type": "stream",
          "name": "stdout",
          "text": [
            "<class 'pandas.core.frame.DataFrame'>\n",
            "RangeIndex: 88718 entries, 0 to 88717\n",
            "Data columns (total 8 columns):\n",
            " #   Column            Non-Null Count  Dtype  \n",
            "---  ------            --------------  -----  \n",
            " 0   Sno               88718 non-null  int64  \n",
            " 1   Wardno Name       88713 non-null  object \n",
            " 2   Circleno Name     88714 non-null  object \n",
            " 3   Zone              88699 non-null  object \n",
            " 4   Assessor Address  88666 non-null  object \n",
            " 5   Latitude          88717 non-null  float64\n",
            " 6   Longitude         88717 non-null  float64\n",
            " 7   Category          88718 non-null  object \n",
            "dtypes: float64(2), int64(1), object(5)\n",
            "memory usage: 5.4+ MB\n"
          ]
        }
      ]
    },
    {
      "cell_type": "code",
      "metadata": {
        "colab": {
          "base_uri": "https://localhost:8080/",
          "height": 300
        },
        "id": "d67RQ5SLKtRu",
        "outputId": "b0255f0d-9145-4b03-a562-11b6ca0d2c4b"
      },
      "source": [
        "data_file.describe()"
      ],
      "execution_count": null,
      "outputs": [
        {
          "output_type": "execute_result",
          "data": {
            "text/html": [
              "<div>\n",
              "<style scoped>\n",
              "    .dataframe tbody tr th:only-of-type {\n",
              "        vertical-align: middle;\n",
              "    }\n",
              "\n",
              "    .dataframe tbody tr th {\n",
              "        vertical-align: top;\n",
              "    }\n",
              "\n",
              "    .dataframe thead th {\n",
              "        text-align: right;\n",
              "    }\n",
              "</style>\n",
              "<table border=\"1\" class=\"dataframe\">\n",
              "  <thead>\n",
              "    <tr style=\"text-align: right;\">\n",
              "      <th></th>\n",
              "      <th>Sno</th>\n",
              "      <th>Latitude</th>\n",
              "      <th>Longitude</th>\n",
              "    </tr>\n",
              "  </thead>\n",
              "  <tbody>\n",
              "    <tr>\n",
              "      <th>count</th>\n",
              "      <td>88718.000000</td>\n",
              "      <td>88717.000000</td>\n",
              "      <td>88717.000000</td>\n",
              "    </tr>\n",
              "    <tr>\n",
              "      <th>mean</th>\n",
              "      <td>44359.500000</td>\n",
              "      <td>19.480063</td>\n",
              "      <td>76.413930</td>\n",
              "    </tr>\n",
              "    <tr>\n",
              "      <th>std</th>\n",
              "      <td>25610.824928</td>\n",
              "      <td>11.012548</td>\n",
              "      <td>11.005354</td>\n",
              "    </tr>\n",
              "    <tr>\n",
              "      <th>min</th>\n",
              "      <td>1.000000</td>\n",
              "      <td>17.135225</td>\n",
              "      <td>17.282086</td>\n",
              "    </tr>\n",
              "    <tr>\n",
              "      <th>25%</th>\n",
              "      <td>22180.250000</td>\n",
              "      <td>17.381477</td>\n",
              "      <td>78.417444</td>\n",
              "    </tr>\n",
              "    <tr>\n",
              "      <th>50%</th>\n",
              "      <td>44359.500000</td>\n",
              "      <td>17.425307</td>\n",
              "      <td>78.465952</td>\n",
              "    </tr>\n",
              "    <tr>\n",
              "      <th>75%</th>\n",
              "      <td>66538.750000</td>\n",
              "      <td>17.482789</td>\n",
              "      <td>78.525518</td>\n",
              "    </tr>\n",
              "    <tr>\n",
              "      <th>max</th>\n",
              "      <td>88718.000000</td>\n",
              "      <td>78.620648</td>\n",
              "      <td>78.700814</td>\n",
              "    </tr>\n",
              "  </tbody>\n",
              "</table>\n",
              "</div>"
            ],
            "text/plain": [
              "                Sno      Latitude     Longitude\n",
              "count  88718.000000  88717.000000  88717.000000\n",
              "mean   44359.500000     19.480063     76.413930\n",
              "std    25610.824928     11.012548     11.005354\n",
              "min        1.000000     17.135225     17.282086\n",
              "25%    22180.250000     17.381477     78.417444\n",
              "50%    44359.500000     17.425307     78.465952\n",
              "75%    66538.750000     17.482789     78.525518\n",
              "max    88718.000000     78.620648     78.700814"
            ]
          },
          "metadata": {},
          "execution_count": 56
        }
      ]
    },
    {
      "cell_type": "code",
      "metadata": {
        "colab": {
          "base_uri": "https://localhost:8080/"
        },
        "id": "U3sFGUUZLAPO",
        "outputId": "40979307-cc1c-4d2f-db93-682d6b8dc48d"
      },
      "source": [
        "data_file['Latitude'].isnull().values.any()"
      ],
      "execution_count": null,
      "outputs": [
        {
          "output_type": "execute_result",
          "data": {
            "text/plain": [
              "True"
            ]
          },
          "metadata": {},
          "execution_count": 57
        }
      ]
    },
    {
      "cell_type": "code",
      "metadata": {
        "colab": {
          "base_uri": "https://localhost:8080/"
        },
        "id": "JYOUDDRKMRYk",
        "outputId": "4510fe0c-293d-46b3-fab1-7137102dae4d"
      },
      "source": [
        "data_file['Longitude'].isnull().values.any()"
      ],
      "execution_count": null,
      "outputs": [
        {
          "output_type": "execute_result",
          "data": {
            "text/plain": [
              "True"
            ]
          },
          "metadata": {},
          "execution_count": 58
        }
      ]
    },
    {
      "cell_type": "code",
      "metadata": {
        "colab": {
          "base_uri": "https://localhost:8080/"
        },
        "id": "ZqkuKUXpLHSh",
        "outputId": "2e4b3bc2-6ded-4508-d88a-3cb608ae6946"
      },
      "source": [
        "data_file['Latitude'].isnull().sum()\n"
      ],
      "execution_count": null,
      "outputs": [
        {
          "output_type": "execute_result",
          "data": {
            "text/plain": [
              "1"
            ]
          },
          "metadata": {},
          "execution_count": 59
        }
      ]
    },
    {
      "cell_type": "code",
      "metadata": {
        "colab": {
          "base_uri": "https://localhost:8080/"
        },
        "id": "ldlhfc2CMhuW",
        "outputId": "4c97f31e-4d5d-44c9-8c8a-5ff53970577d"
      },
      "source": [
        "data_file['Longitude'].isnull().sum()"
      ],
      "execution_count": null,
      "outputs": [
        {
          "output_type": "execute_result",
          "data": {
            "text/plain": [
              "1"
            ]
          },
          "metadata": {},
          "execution_count": 60
        }
      ]
    },
    {
      "cell_type": "code",
      "metadata": {
        "id": "XtARWkUqNnjQ"
      },
      "source": [
        "#data_file['Latitude'] = data_file['Latitude'].fillna(0)\n",
        "    "
      ],
      "execution_count": null,
      "outputs": []
    },
    {
      "cell_type": "code",
      "metadata": {
        "colab": {
          "base_uri": "https://localhost:8080/"
        },
        "id": "mBc483rkPUVt",
        "outputId": "ecf65a30-3287-4d40-f6f7-c09a7bfdbc43"
      },
      "source": [
        "data_file['Latitude'].isnull().sum()"
      ],
      "execution_count": null,
      "outputs": [
        {
          "output_type": "execute_result",
          "data": {
            "text/plain": [
              "1"
            ]
          },
          "metadata": {},
          "execution_count": 62
        }
      ]
    },
    {
      "cell_type": "code",
      "metadata": {
        "id": "Sia27udyPfy4"
      },
      "source": [
        "#data_file['Longitude'] = data_file['Latitude'].fillna(0)"
      ],
      "execution_count": null,
      "outputs": []
    },
    {
      "cell_type": "code",
      "metadata": {
        "colab": {
          "base_uri": "https://localhost:8080/"
        },
        "id": "NsM42oUKPjNp",
        "outputId": "327c655f-b082-4eff-bfec-a56d3a7acf2b"
      },
      "source": [
        "data_file['Longitude'].isnull().sum()"
      ],
      "execution_count": null,
      "outputs": [
        {
          "output_type": "execute_result",
          "data": {
            "text/plain": [
              "1"
            ]
          },
          "metadata": {},
          "execution_count": 64
        }
      ]
    },
    {
      "cell_type": "code",
      "metadata": {
        "colab": {
          "base_uri": "https://localhost:8080/",
          "height": 81
        },
        "id": "AxkRTaFXQKwF",
        "outputId": "51ebc3f2-820f-40f7-c79a-3fbb776f1c9a"
      },
      "source": [
        "nan_values = data_file[data_file['Longitude'].isna()]\n",
        "nan_values"
      ],
      "execution_count": null,
      "outputs": [
        {
          "output_type": "execute_result",
          "data": {
            "text/html": [
              "<div>\n",
              "<style scoped>\n",
              "    .dataframe tbody tr th:only-of-type {\n",
              "        vertical-align: middle;\n",
              "    }\n",
              "\n",
              "    .dataframe tbody tr th {\n",
              "        vertical-align: top;\n",
              "    }\n",
              "\n",
              "    .dataframe thead th {\n",
              "        text-align: right;\n",
              "    }\n",
              "</style>\n",
              "<table border=\"1\" class=\"dataframe\">\n",
              "  <thead>\n",
              "    <tr style=\"text-align: right;\">\n",
              "      <th></th>\n",
              "      <th>Sno</th>\n",
              "      <th>Wardno Name</th>\n",
              "      <th>Circleno Name</th>\n",
              "      <th>Zone</th>\n",
              "      <th>Assessor Address</th>\n",
              "      <th>Latitude</th>\n",
              "      <th>Longitude</th>\n",
              "      <th>Category</th>\n",
              "    </tr>\n",
              "  </thead>\n",
              "  <tbody>\n",
              "    <tr>\n",
              "      <th>88665</th>\n",
              "      <td>88666</td>\n",
              "      <td>NaN</td>\n",
              "      <td>NaN</td>\n",
              "      <td>NaN</td>\n",
              "      <td>NaN</td>\n",
              "      <td>NaN</td>\n",
              "      <td>NaN</td>\n",
              "      <td>SPORTS COMPLEXES</td>\n",
              "    </tr>\n",
              "  </tbody>\n",
              "</table>\n",
              "</div>"
            ],
            "text/plain": [
              "         Sno Wardno Name Circleno Name  ... Latitude Longitude          Category\n",
              "88665  88666         NaN           NaN  ...      NaN       NaN  SPORTS COMPLEXES\n",
              "\n",
              "[1 rows x 8 columns]"
            ]
          },
          "metadata": {},
          "execution_count": 65
        }
      ]
    }
  ]
}
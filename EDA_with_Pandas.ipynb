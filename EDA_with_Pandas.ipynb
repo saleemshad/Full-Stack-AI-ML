{
  "nbformat": 4,
  "nbformat_minor": 0,
  "metadata": {
    "colab": {
      "name": "EDA_with_Pandas.ipynb",
      "provenance": [],
      "collapsed_sections": [],
      "mount_file_id": "1ZMVOPtJN26z_c7QJsLseV1g0W4W1Q0_d",
      "authorship_tag": "ABX9TyMgXvrNuK197V/S/JDlR6uZ",
      "include_colab_link": true
    },
    "kernelspec": {
      "name": "python3",
      "display_name": "Python 3"
    },
    "language_info": {
      "name": "python"
    }
  },
  "cells": [
    {
      "cell_type": "markdown",
      "metadata": {
        "id": "view-in-github",
        "colab_type": "text"
      },
      "source": [
        "<a href=\"https://colab.research.google.com/github/saleemshad/Full-Stack-AI-ML/blob/main/EDA_with_Pandas.ipynb\" target=\"_parent\"><img src=\"https://colab.research.google.com/assets/colab-badge.svg\" alt=\"Open In Colab\"/></a>"
      ]
    },
    {
      "cell_type": "markdown",
      "metadata": {
        "id": "a0id49AnRkSe"
      },
      "source": [
        "# Exploratory Data Analysis"
      ]
    },
    {
      "cell_type": "markdown",
      "metadata": {
        "id": "zuy2CRofRqR9"
      },
      "source": [
        "## importing libraries"
      ]
    },
    {
      "cell_type": "code",
      "metadata": {
        "id": "-posyQBkJYfL"
      },
      "source": [
        "import numpy as np\n",
        "import pandas as pd"
      ],
      "execution_count": 4,
      "outputs": []
    },
    {
      "cell_type": "markdown",
      "metadata": {
        "id": "s8PAnpMKRtEV"
      },
      "source": [
        "## importing data from google drive to load the file in pandas dataframe"
      ]
    },
    {
      "cell_type": "code",
      "metadata": {
        "id": "8K1Vj_6HJkaq"
      },
      "source": [
        "data_file = pd.read_csv('/content/drive/MyDrive/geolocations_amenities_ghmc.csv')"
      ],
      "execution_count": 5,
      "outputs": []
    },
    {
      "cell_type": "markdown",
      "metadata": {
        "id": "Sg8kbCWYR1-M"
      },
      "source": [
        "## lookig at the over picture of the dataset"
      ]
    },
    {
      "cell_type": "code",
      "metadata": {
        "colab": {
          "base_uri": "https://localhost:8080/"
        },
        "id": "cB1xNdCVKa5v",
        "outputId": "11cfb70b-c06c-4777-bc3b-f1b7c06b98f8"
      },
      "source": [
        "data_file.info()"
      ],
      "execution_count": 6,
      "outputs": [
        {
          "output_type": "stream",
          "name": "stdout",
          "text": [
            "<class 'pandas.core.frame.DataFrame'>\n",
            "RangeIndex: 88718 entries, 0 to 88717\n",
            "Data columns (total 8 columns):\n",
            " #   Column            Non-Null Count  Dtype  \n",
            "---  ------            --------------  -----  \n",
            " 0   Sno               88718 non-null  int64  \n",
            " 1   Wardno Name       88713 non-null  object \n",
            " 2   Circleno Name     88714 non-null  object \n",
            " 3   Zone              88699 non-null  object \n",
            " 4   Assessor Address  88666 non-null  object \n",
            " 5   Latitude          88717 non-null  float64\n",
            " 6   Longitude         88717 non-null  float64\n",
            " 7   Category          88718 non-null  object \n",
            "dtypes: float64(2), int64(1), object(5)\n",
            "memory usage: 5.4+ MB\n"
          ]
        }
      ]
    },
    {
      "cell_type": "markdown",
      "metadata": {
        "id": "bcj5yoNQR6JV"
      },
      "source": [
        "## descrivin the dataset more to get insights"
      ]
    },
    {
      "cell_type": "code",
      "metadata": {
        "colab": {
          "base_uri": "https://localhost:8080/",
          "height": 300
        },
        "id": "d67RQ5SLKtRu",
        "outputId": "94642e11-0c3d-4fda-f7fd-cb52adf947a1"
      },
      "source": [
        "data_file.describe()"
      ],
      "execution_count": 7,
      "outputs": [
        {
          "output_type": "execute_result",
          "data": {
            "text/html": [
              "<div>\n",
              "<style scoped>\n",
              "    .dataframe tbody tr th:only-of-type {\n",
              "        vertical-align: middle;\n",
              "    }\n",
              "\n",
              "    .dataframe tbody tr th {\n",
              "        vertical-align: top;\n",
              "    }\n",
              "\n",
              "    .dataframe thead th {\n",
              "        text-align: right;\n",
              "    }\n",
              "</style>\n",
              "<table border=\"1\" class=\"dataframe\">\n",
              "  <thead>\n",
              "    <tr style=\"text-align: right;\">\n",
              "      <th></th>\n",
              "      <th>Sno</th>\n",
              "      <th>Latitude</th>\n",
              "      <th>Longitude</th>\n",
              "    </tr>\n",
              "  </thead>\n",
              "  <tbody>\n",
              "    <tr>\n",
              "      <th>count</th>\n",
              "      <td>88718.000000</td>\n",
              "      <td>88717.000000</td>\n",
              "      <td>88717.000000</td>\n",
              "    </tr>\n",
              "    <tr>\n",
              "      <th>mean</th>\n",
              "      <td>44359.500000</td>\n",
              "      <td>19.480063</td>\n",
              "      <td>76.413930</td>\n",
              "    </tr>\n",
              "    <tr>\n",
              "      <th>std</th>\n",
              "      <td>25610.824928</td>\n",
              "      <td>11.012548</td>\n",
              "      <td>11.005354</td>\n",
              "    </tr>\n",
              "    <tr>\n",
              "      <th>min</th>\n",
              "      <td>1.000000</td>\n",
              "      <td>17.135225</td>\n",
              "      <td>17.282086</td>\n",
              "    </tr>\n",
              "    <tr>\n",
              "      <th>25%</th>\n",
              "      <td>22180.250000</td>\n",
              "      <td>17.381477</td>\n",
              "      <td>78.417444</td>\n",
              "    </tr>\n",
              "    <tr>\n",
              "      <th>50%</th>\n",
              "      <td>44359.500000</td>\n",
              "      <td>17.425307</td>\n",
              "      <td>78.465952</td>\n",
              "    </tr>\n",
              "    <tr>\n",
              "      <th>75%</th>\n",
              "      <td>66538.750000</td>\n",
              "      <td>17.482789</td>\n",
              "      <td>78.525518</td>\n",
              "    </tr>\n",
              "    <tr>\n",
              "      <th>max</th>\n",
              "      <td>88718.000000</td>\n",
              "      <td>78.620648</td>\n",
              "      <td>78.700814</td>\n",
              "    </tr>\n",
              "  </tbody>\n",
              "</table>\n",
              "</div>"
            ],
            "text/plain": [
              "                Sno      Latitude     Longitude\n",
              "count  88718.000000  88717.000000  88717.000000\n",
              "mean   44359.500000     19.480063     76.413930\n",
              "std    25610.824928     11.012548     11.005354\n",
              "min        1.000000     17.135225     17.282086\n",
              "25%    22180.250000     17.381477     78.417444\n",
              "50%    44359.500000     17.425307     78.465952\n",
              "75%    66538.750000     17.482789     78.525518\n",
              "max    88718.000000     78.620648     78.700814"
            ]
          },
          "metadata": {},
          "execution_count": 7
        }
      ]
    },
    {
      "cell_type": "markdown",
      "metadata": {
        "id": "xSA3ZjPYR_9B"
      },
      "source": [
        "### Missing data\n",
        "Since Latitude and Longitude are not null but their count of values is one less that is : 88717 out of 88718 which means it has one null values.\n",
        "We can confirm this by ruuning the command below.\n",
        "The results below show.\n",
        "* Both Latitude and Longitude has a null values"
      ]
    },
    {
      "cell_type": "code",
      "metadata": {
        "colab": {
          "base_uri": "https://localhost:8080/"
        },
        "id": "U3sFGUUZLAPO",
        "outputId": "9eb4e763-2565-4b33-dfe4-f61fc2fb6a1d"
      },
      "source": [
        "data_file['Latitude'].isnull().values.any()"
      ],
      "execution_count": 8,
      "outputs": [
        {
          "output_type": "execute_result",
          "data": {
            "text/plain": [
              "True"
            ]
          },
          "metadata": {},
          "execution_count": 8
        }
      ]
    },
    {
      "cell_type": "code",
      "metadata": {
        "colab": {
          "base_uri": "https://localhost:8080/"
        },
        "id": "JYOUDDRKMRYk",
        "outputId": "0f0c9b81-d3b1-4d4a-9f76-d7ad69291475"
      },
      "source": [
        "data_file['Longitude'].isnull().values.any()"
      ],
      "execution_count": 9,
      "outputs": [
        {
          "output_type": "execute_result",
          "data": {
            "text/plain": [
              "True"
            ]
          },
          "metadata": {},
          "execution_count": 9
        }
      ]
    },
    {
      "cell_type": "code",
      "metadata": {
        "colab": {
          "base_uri": "https://localhost:8080/"
        },
        "id": "ZqkuKUXpLHSh",
        "outputId": "9304e3e0-9a05-40b8-b87e-7fb6089c9559"
      },
      "source": [
        "data_file['Latitude'].isnull().sum()\n"
      ],
      "execution_count": 10,
      "outputs": [
        {
          "output_type": "execute_result",
          "data": {
            "text/plain": [
              "1"
            ]
          },
          "metadata": {},
          "execution_count": 10
        }
      ]
    },
    {
      "cell_type": "code",
      "metadata": {
        "colab": {
          "base_uri": "https://localhost:8080/"
        },
        "id": "ldlhfc2CMhuW",
        "outputId": "34b2fce1-0e8d-4b19-ff64-637a4e84f201"
      },
      "source": [
        "data_file['Longitude'].isnull().sum()"
      ],
      "execution_count": 11,
      "outputs": [
        {
          "output_type": "execute_result",
          "data": {
            "text/plain": [
              "1"
            ]
          },
          "metadata": {},
          "execution_count": 11
        }
      ]
    },
    {
      "cell_type": "markdown",
      "metadata": {
        "id": "ksi1P4zySiWl"
      },
      "source": [
        "### Checking the location of Nan\n",
        "We can also see where extactly the Nan values in the Longitude"
      ]
    },
    {
      "cell_type": "code",
      "metadata": {
        "colab": {
          "base_uri": "https://localhost:8080/",
          "height": 81
        },
        "id": "AxkRTaFXQKwF",
        "outputId": "5f613263-58ee-43b9-b74a-b4a06e157074"
      },
      "source": [
        "nan_values = data_file[data_file['Longitude'].isna()]\n",
        "nan_values"
      ],
      "execution_count": 18,
      "outputs": [
        {
          "output_type": "execute_result",
          "data": {
            "text/html": [
              "<div>\n",
              "<style scoped>\n",
              "    .dataframe tbody tr th:only-of-type {\n",
              "        vertical-align: middle;\n",
              "    }\n",
              "\n",
              "    .dataframe tbody tr th {\n",
              "        vertical-align: top;\n",
              "    }\n",
              "\n",
              "    .dataframe thead th {\n",
              "        text-align: right;\n",
              "    }\n",
              "</style>\n",
              "<table border=\"1\" class=\"dataframe\">\n",
              "  <thead>\n",
              "    <tr style=\"text-align: right;\">\n",
              "      <th></th>\n",
              "      <th>Sno</th>\n",
              "      <th>Wardno Name</th>\n",
              "      <th>Circleno Name</th>\n",
              "      <th>Zone</th>\n",
              "      <th>Assessor Address</th>\n",
              "      <th>Latitude</th>\n",
              "      <th>Longitude</th>\n",
              "      <th>Category</th>\n",
              "    </tr>\n",
              "  </thead>\n",
              "  <tbody>\n",
              "    <tr>\n",
              "      <th>88665</th>\n",
              "      <td>88666</td>\n",
              "      <td>NaN</td>\n",
              "      <td>NaN</td>\n",
              "      <td>NaN</td>\n",
              "      <td>NaN</td>\n",
              "      <td>NaN</td>\n",
              "      <td>NaN</td>\n",
              "      <td>SPORTS COMPLEXES</td>\n",
              "    </tr>\n",
              "  </tbody>\n",
              "</table>\n",
              "</div>"
            ],
            "text/plain": [
              "         Sno Wardno Name Circleno Name  ... Latitude Longitude          Category\n",
              "88665  88666         NaN           NaN  ...      NaN       NaN  SPORTS COMPLEXES\n",
              "\n",
              "[1 rows x 8 columns]"
            ]
          },
          "metadata": {},
          "execution_count": 18
        }
      ]
    },
    {
      "cell_type": "markdown",
      "metadata": {
        "id": "-JBv4aJxSstE"
      },
      "source": [
        "## Replacing Nan with 0\n",
        "Now we are replacing NaN values with 0 in both Latitude and Longitude"
      ]
    },
    {
      "cell_type": "code",
      "metadata": {
        "id": "g3UCghSaRH2U"
      },
      "source": [
        "data_file['Latitude'] = data_file['Latitude'].fillna(0)"
      ],
      "execution_count": 19,
      "outputs": []
    },
    {
      "cell_type": "code",
      "metadata": {
        "id": "QNJUNVOHRK-z"
      },
      "source": [
        "data_file['Longitude'] = data_file['Longitude'].fillna(0)"
      ],
      "execution_count": 20,
      "outputs": []
    },
    {
      "cell_type": "markdown",
      "metadata": {
        "id": "8bEvKrPpS1Ty"
      },
      "source": [
        "## verify the after modification\n",
        "\n",
        "We are now verifying again whether we have any nulls values\n",
        "so now we get empty result that means the values were updated with 0"
      ]
    },
    {
      "cell_type": "code",
      "metadata": {
        "colab": {
          "base_uri": "https://localhost:8080/",
          "height": 49
        },
        "id": "hVqtQCV0RXAC",
        "outputId": "0c49b6f8-211a-423c-f9f8-4fa460022543"
      },
      "source": [
        "nan_values = data_file[data_file['Longitude'].isna()]\n",
        "nan_values"
      ],
      "execution_count": 21,
      "outputs": [
        {
          "output_type": "execute_result",
          "data": {
            "text/html": [
              "<div>\n",
              "<style scoped>\n",
              "    .dataframe tbody tr th:only-of-type {\n",
              "        vertical-align: middle;\n",
              "    }\n",
              "\n",
              "    .dataframe tbody tr th {\n",
              "        vertical-align: top;\n",
              "    }\n",
              "\n",
              "    .dataframe thead th {\n",
              "        text-align: right;\n",
              "    }\n",
              "</style>\n",
              "<table border=\"1\" class=\"dataframe\">\n",
              "  <thead>\n",
              "    <tr style=\"text-align: right;\">\n",
              "      <th></th>\n",
              "      <th>Sno</th>\n",
              "      <th>Wardno Name</th>\n",
              "      <th>Circleno Name</th>\n",
              "      <th>Zone</th>\n",
              "      <th>Assessor Address</th>\n",
              "      <th>Latitude</th>\n",
              "      <th>Longitude</th>\n",
              "      <th>Category</th>\n",
              "    </tr>\n",
              "  </thead>\n",
              "  <tbody>\n",
              "  </tbody>\n",
              "</table>\n",
              "</div>"
            ],
            "text/plain": [
              "Empty DataFrame\n",
              "Columns: [Sno, Wardno Name, Circleno Name, Zone, Assessor Address, Latitude, Longitude, Category]\n",
              "Index: []"
            ]
          },
          "metadata": {},
          "execution_count": 21
        }
      ]
    }
  ]
}